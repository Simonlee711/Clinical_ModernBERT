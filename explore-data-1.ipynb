{
 "cells": [
  {
   "cell_type": "markdown",
   "metadata": {},
   "source": [
    "# clean data"
   ]
  },
  {
   "cell_type": "code",
   "execution_count": 29,
   "metadata": {},
   "outputs": [],
   "source": [
    "import re\n",
    "\n",
    "def clean_text(text):\n",
    "    if not isinstance(text, str):\n",
    "        return text\n",
    "    text = text.replace(\"\\n\", \" \").replace(\"\\r\", \" \").replace(\"\\t\", \" \")\n",
    "    text = re.sub(r\"\\s+\", \" \", text)  # collapse multiple spaces\n",
    "    text = text.strip()\n",
    "    return text"
   ]
  },
  {
   "cell_type": "code",
   "execution_count": 34,
   "metadata": {},
   "outputs": [
    {
     "name": "stderr",
     "output_type": "stream",
     "text": [
      "Pandas Apply: 100%|██████████| 331793/331793 [02:40<00:00, 2067.34it/s]\n"
     ]
    },
    {
     "data": {
      "text/html": [
       "<div>\n",
       "<style scoped>\n",
       "    .dataframe tbody tr th:only-of-type {\n",
       "        vertical-align: middle;\n",
       "    }\n",
       "\n",
       "    .dataframe tbody tr th {\n",
       "        vertical-align: top;\n",
       "    }\n",
       "\n",
       "    .dataframe thead th {\n",
       "        text-align: right;\n",
       "    }\n",
       "</style>\n",
       "<table border=\"1\" class=\"dataframe\">\n",
       "  <thead>\n",
       "    <tr style=\"text-align: right;\">\n",
       "      <th></th>\n",
       "      <th>clinical_text</th>\n",
       "    </tr>\n",
       "  </thead>\n",
       "  <tbody>\n",
       "    <tr>\n",
       "      <th>0</th>\n",
       "      <td>Name: ___ Unit No: ___ Admission Date: ___ Dis...</td>\n",
       "    </tr>\n",
       "    <tr>\n",
       "      <th>1</th>\n",
       "      <td>Name: ___ Unit No: ___ Admission Date: ___ Dis...</td>\n",
       "    </tr>\n",
       "    <tr>\n",
       "      <th>2</th>\n",
       "      <td>Name: ___ Unit No: ___ Admission Date: ___ Dis...</td>\n",
       "    </tr>\n",
       "    <tr>\n",
       "      <th>3</th>\n",
       "      <td>Name: ___ Unit No: ___ Admission Date: ___ Dis...</td>\n",
       "    </tr>\n",
       "    <tr>\n",
       "      <th>4</th>\n",
       "      <td>Name: ___ Unit No: ___ Admission Date: ___ Dis...</td>\n",
       "    </tr>\n",
       "    <tr>\n",
       "      <th>...</th>\n",
       "      <td>...</td>\n",
       "    </tr>\n",
       "    <tr>\n",
       "      <th>331788</th>\n",
       "      <td>Name: ___ Unit No: ___ Admission Date: ___ Dis...</td>\n",
       "    </tr>\n",
       "    <tr>\n",
       "      <th>331789</th>\n",
       "      <td>Name: ___ Unit No: ___ Admission Date: ___ Dis...</td>\n",
       "    </tr>\n",
       "    <tr>\n",
       "      <th>331790</th>\n",
       "      <td>Name: ___ Unit No: ___ Admission Date: ___ Dis...</td>\n",
       "    </tr>\n",
       "    <tr>\n",
       "      <th>331791</th>\n",
       "      <td>Name: ___ Unit No: ___ Admission Date: ___ Dis...</td>\n",
       "    </tr>\n",
       "    <tr>\n",
       "      <th>331792</th>\n",
       "      <td>Name: ___ Unit No: ___ Admission Date: ___ Dis...</td>\n",
       "    </tr>\n",
       "  </tbody>\n",
       "</table>\n",
       "<p>331793 rows × 1 columns</p>\n",
       "</div>"
      ],
      "text/plain": [
       "                                            clinical_text\n",
       "0       Name: ___ Unit No: ___ Admission Date: ___ Dis...\n",
       "1       Name: ___ Unit No: ___ Admission Date: ___ Dis...\n",
       "2       Name: ___ Unit No: ___ Admission Date: ___ Dis...\n",
       "3       Name: ___ Unit No: ___ Admission Date: ___ Dis...\n",
       "4       Name: ___ Unit No: ___ Admission Date: ___ Dis...\n",
       "...                                                   ...\n",
       "331788  Name: ___ Unit No: ___ Admission Date: ___ Dis...\n",
       "331789  Name: ___ Unit No: ___ Admission Date: ___ Dis...\n",
       "331790  Name: ___ Unit No: ___ Admission Date: ___ Dis...\n",
       "331791  Name: ___ Unit No: ___ Admission Date: ___ Dis...\n",
       "331792  Name: ___ Unit No: ___ Admission Date: ___ Dis...\n",
       "\n",
       "[331793 rows x 1 columns]"
      ]
     },
     "execution_count": 34,
     "metadata": {},
     "output_type": "execute_result"
    }
   ],
   "source": [
    "import pandas as pd \n",
    "import swifter\n",
    "\n",
    "discharge = pd.read_csv(\"/data2/simon/data/physionet.org/files/mimic-iv-note/2.2/note/discharge.csv.gz\")\n",
    "columns_to_drop = [\"note_id\", \"subject_id\", \"hadm_id\", \"note_type\", \"note_seq\", \"charttime\", \"storetime\"]\n",
    "discharge = discharge.drop(columns=columns_to_drop)\n",
    "discharge[\"clinical_text\"] = discharge[\"text\"].swifter.apply(clean_text)\n",
    "discharge = discharge.drop(columns=\"text\")\n",
    "discharge"
   ]
  },
  {
   "cell_type": "code",
   "execution_count": 38,
   "metadata": {},
   "outputs": [
    {
     "name": "stdout",
     "output_type": "stream",
     "text": [
      "Average token count: 1600.27\n"
     ]
    }
   ],
   "source": [
    "avg_token_len = discharge[\"clinical_text\"].swifter.apply(lambda x: len(x.split())).mean()\n",
    "print(f\"Average token count: {avg_token_len:.2f}\")"
   ]
  },
  {
   "cell_type": "code",
   "execution_count": 35,
   "metadata": {},
   "outputs": [
    {
     "name": "stdout",
     "output_type": "stream",
     "text": [
      "DataFrame memory usage: 3241.58 MB\n"
     ]
    }
   ],
   "source": [
    "mem_bytes = discharge.memory_usage(deep=True).sum()\n",
    "mem_mb = mem_bytes / (1024 ** 2)\n",
    "print(f\"DataFrame memory usage: {mem_mb:.2f} MB\")"
   ]
  },
  {
   "cell_type": "code",
   "execution_count": 36,
   "metadata": {},
   "outputs": [
    {
     "name": "stderr",
     "output_type": "stream",
     "text": [
      "Pandas Apply: 100%|██████████| 2321355/2321355 [02:06<00:00, 18290.93it/s]\n"
     ]
    },
    {
     "data": {
      "text/html": [
       "<div>\n",
       "<style scoped>\n",
       "    .dataframe tbody tr th:only-of-type {\n",
       "        vertical-align: middle;\n",
       "    }\n",
       "\n",
       "    .dataframe tbody tr th {\n",
       "        vertical-align: top;\n",
       "    }\n",
       "\n",
       "    .dataframe thead th {\n",
       "        text-align: right;\n",
       "    }\n",
       "</style>\n",
       "<table border=\"1\" class=\"dataframe\">\n",
       "  <thead>\n",
       "    <tr style=\"text-align: right;\">\n",
       "      <th></th>\n",
       "      <th>clinical_text</th>\n",
       "    </tr>\n",
       "  </thead>\n",
       "  <tbody>\n",
       "    <tr>\n",
       "      <th>0</th>\n",
       "      <td>EXAMINATION: CHEST (PA AND LAT) INDICATION: __...</td>\n",
       "    </tr>\n",
       "    <tr>\n",
       "      <th>1</th>\n",
       "      <td>EXAMINATION: LIVER OR GALLBLADDER US (SINGLE O...</td>\n",
       "    </tr>\n",
       "    <tr>\n",
       "      <th>2</th>\n",
       "      <td>INDICATION: ___ HCV cirrhosis c/b ascites, hiv...</td>\n",
       "    </tr>\n",
       "    <tr>\n",
       "      <th>3</th>\n",
       "      <td>EXAMINATION: Ultrasound-guided paracentesis. I...</td>\n",
       "    </tr>\n",
       "    <tr>\n",
       "      <th>4</th>\n",
       "      <td>EXAMINATION: Paracentesis INDICATION: ___ year...</td>\n",
       "    </tr>\n",
       "    <tr>\n",
       "      <th>...</th>\n",
       "      <td>...</td>\n",
       "    </tr>\n",
       "    <tr>\n",
       "      <th>2321350</th>\n",
       "      <td>HISTORY: ___, with left occipital bleeding. As...</td>\n",
       "    </tr>\n",
       "    <tr>\n",
       "      <th>2321351</th>\n",
       "      <td>INDICATION: ___ female intubated for head blee...</td>\n",
       "    </tr>\n",
       "    <tr>\n",
       "      <th>2321352</th>\n",
       "      <td>HISTORY: ___ woman with left occipital hemorrh...</td>\n",
       "    </tr>\n",
       "    <tr>\n",
       "      <th>2321353</th>\n",
       "      <td>PORTABLE CHEST OF ___ COMPARISON: ___ radiogra...</td>\n",
       "    </tr>\n",
       "    <tr>\n",
       "      <th>2321354</th>\n",
       "      <td>DATE OF SERVICE: ___. PRE-OPERATIVE DIAGNOSIS:...</td>\n",
       "    </tr>\n",
       "  </tbody>\n",
       "</table>\n",
       "<p>2321355 rows × 1 columns</p>\n",
       "</div>"
      ],
      "text/plain": [
       "                                             clinical_text\n",
       "0        EXAMINATION: CHEST (PA AND LAT) INDICATION: __...\n",
       "1        EXAMINATION: LIVER OR GALLBLADDER US (SINGLE O...\n",
       "2        INDICATION: ___ HCV cirrhosis c/b ascites, hiv...\n",
       "3        EXAMINATION: Ultrasound-guided paracentesis. I...\n",
       "4        EXAMINATION: Paracentesis INDICATION: ___ year...\n",
       "...                                                    ...\n",
       "2321350  HISTORY: ___, with left occipital bleeding. As...\n",
       "2321351  INDICATION: ___ female intubated for head blee...\n",
       "2321352  HISTORY: ___ woman with left occipital hemorrh...\n",
       "2321353  PORTABLE CHEST OF ___ COMPARISON: ___ radiogra...\n",
       "2321354  DATE OF SERVICE: ___. PRE-OPERATIVE DIAGNOSIS:...\n",
       "\n",
       "[2321355 rows x 1 columns]"
      ]
     },
     "execution_count": 36,
     "metadata": {},
     "output_type": "execute_result"
    }
   ],
   "source": [
    "radiology = pd.read_csv(\"/data2/simon/data/physionet.org/files/mimic-iv-note/2.2/note/radiology.csv.gz\")\n",
    "columns_to_drop = [\"note_id\", \"subject_id\", \"hadm_id\", \"note_type\", \"note_seq\", \"charttime\", \"storetime\"]\n",
    "radiology = radiology.drop(columns=columns_to_drop)\n",
    "radiology[\"clinical_text\"] = radiology[\"text\"].swifter.apply(clean_text)\n",
    "radiology = radiology.drop(columns=\"text\")\n",
    "radiology"
   ]
  },
  {
   "cell_type": "code",
   "execution_count": 40,
   "metadata": {},
   "outputs": [
    {
     "name": "stderr",
     "output_type": "stream",
     "text": [
      "Pandas Apply:   0%|          | 0/2321355 [00:00<?, ?it/s]"
     ]
    },
    {
     "name": "stderr",
     "output_type": "stream",
     "text": [
      "Pandas Apply: 100%|██████████| 2321355/2321355 [00:22<00:00, 102076.62it/s]"
     ]
    },
    {
     "name": "stdout",
     "output_type": "stream",
     "text": [
      "Average token count: 168.74\n"
     ]
    },
    {
     "name": "stderr",
     "output_type": "stream",
     "text": [
      "\n"
     ]
    }
   ],
   "source": [
    "avg_token_len = radiology[\"clinical_text\"].swifter.apply(lambda x: len(x.split())).mean()\n",
    "print(f\"Average token count: {avg_token_len:.2f}\")"
   ]
  },
  {
   "cell_type": "code",
   "execution_count": 37,
   "metadata": {},
   "outputs": [
    {
     "name": "stdout",
     "output_type": "stream",
     "text": [
      "DataFrame memory usage: 2642.46 MB\n"
     ]
    }
   ],
   "source": [
    "mem_bytes = radiology.memory_usage(deep=True).sum()\n",
    "mem_mb = mem_bytes / (1024 ** 2)\n",
    "print(f\"DataFrame memory usage: {mem_mb:.2f} MB\")"
   ]
  },
  {
   "cell_type": "code",
   "execution_count": 23,
   "metadata": {},
   "outputs": [
    {
     "name": "stdout",
     "output_type": "stream",
     "text": [
      "Parsing ../data/pubmed/pubmed25n0001.xml.gz\n",
      "  pmid                                      clinical_text\n",
      "0    1  Formate assay in body fluids: application in m...\n",
      "1    2  Delineation of the intimate details of the bac...\n",
      "2    3  Metal substitutions incarbonic anhydrase: a ha...\n",
      "3    4  Effect of chloroquine on cultured fibroblasts:...\n",
      "4    5  Atomic models for the polypeptide backbones of...\n"
     ]
    }
   ],
   "source": [
    "import gzip\n",
    "from lxml import etree\n",
    "import pandas as pd\n",
    "import glob\n",
    "\n",
    "def extract_article_data(article):\n",
    "    def xpath_text(elem, path):\n",
    "        found = elem.find(path)\n",
    "        return found.text.strip() if found is not None and found.text else None\n",
    "\n",
    "    pmid = xpath_text(article, \".//PMID\")\n",
    "    title = xpath_text(article, \".//ArticleTitle\")\n",
    "\n",
    "    abstract_parts = article.findall(\".//Abstract/AbstractText\")\n",
    "    abstract = \" \".join([a.text.strip() for a in abstract_parts if a is not None and a.text]) if abstract_parts else None\n",
    "\n",
    "    # Concatenate title + abstract as clinical text\n",
    "    if title and abstract:\n",
    "        clinical_text = f\"{title} {abstract}\"\n",
    "    elif title:\n",
    "        clinical_text = title\n",
    "    elif abstract:\n",
    "        clinical_text = abstract\n",
    "    else:\n",
    "        clinical_text = None\n",
    "\n",
    "    return {\n",
    "        \"pmid\": pmid,\n",
    "        \"clinical_text\": clinical_text\n",
    "    }\n",
    "\n",
    "def parse_pubmed_xml(xml_file):\n",
    "    with gzip.open(xml_file, 'rb') as f:\n",
    "        context = etree.iterparse(f, tag='PubmedArticle')\n",
    "        for _, elem in context:\n",
    "            yield extract_article_data(elem)\n",
    "            elem.clear()\n",
    "\n",
    "# Collect entries into a DataFrame\n",
    "records = []\n",
    "for file in glob.glob(\"../data/pubmed/pubmed25n0001.xml.gz\"):\n",
    "    print(f\"Parsing {file}\")\n",
    "    for record in parse_pubmed_xml(file):\n",
    "        if record[\"clinical_text\"]:  # skip empty ones\n",
    "            records.append(record)\n",
    "\n",
    "df = pd.DataFrame(records)\n",
    "print(df.head())\n"
   ]
  },
  {
   "cell_type": "code",
   "execution_count": 41,
   "metadata": {},
   "outputs": [
    {
     "name": "stderr",
     "output_type": "stream",
     "text": [
      "Pandas Apply: 100%|██████████| 30000/30000 [00:00<00:00, 169119.02it/s]"
     ]
    },
    {
     "name": "stdout",
     "output_type": "stream",
     "text": [
      "Average token count: 85.30\n"
     ]
    },
    {
     "name": "stderr",
     "output_type": "stream",
     "text": [
      "\n"
     ]
    }
   ],
   "source": [
    "avg_token_len = df[\"clinical_text\"].swifter.apply(lambda x: len(x.split())).mean()\n",
    "print(f\"Average token count: {avg_token_len:.2f}\")"
   ]
  },
  {
   "cell_type": "code",
   "execution_count": 42,
   "metadata": {},
   "outputs": [
    {
     "name": "stdout",
     "output_type": "stream",
     "text": [
      "DataFrame memory usage: 20.21 MB\n"
     ]
    }
   ],
   "source": [
    "mem_bytes = df.memory_usage(deep=True).sum()\n",
    "mem_mb = mem_bytes / (1024 ** 2)\n",
    "print(f\"DataFrame memory usage: {mem_mb:.2f} MB\")"
   ]
  },
  {
   "cell_type": "markdown",
   "metadata": {},
   "source": [
    "# 1200 * 20.21MB = ~ 24 GB"
   ]
  }
 ],
 "metadata": {
  "kernelspec": {
   "display_name": "ml",
   "language": "python",
   "name": "python3"
  },
  "language_info": {
   "codemirror_mode": {
    "name": "ipython",
    "version": 3
   },
   "file_extension": ".py",
   "mimetype": "text/x-python",
   "name": "python",
   "nbconvert_exporter": "python",
   "pygments_lexer": "ipython3",
   "version": "3.10.16"
  },
  "orig_nbformat": 4
 },
 "nbformat": 4,
 "nbformat_minor": 2
}
